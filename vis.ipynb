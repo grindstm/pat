{
 "cells": [
  {
   "cell_type": "code",
   "execution_count": 1,
   "metadata": {},
   "outputs": [],
   "source": [
    "import sys\n",
    "import os\n",
    "import numpy as np\n",
    "import jax.numpy as jnp\n",
    "import vedo\n",
    "from vedo import Volume, show\n",
    "import vedo.plotter  # https://vedo.embl.es/docs/vedo/plotter.html#Plotter\n",
    "from vedo.colors import color_map\n",
    "vedo.settings.default_backend = \"vtk\"\n",
    "plotter = vedo.Plotter(axes=6, bg=\"white\", size=(1600, 800))\n",
    "import matplotlib.pyplot as plt\n",
    "from matplotlib.colors import LinearSegmentedColormap\n",
    "data_path = \"data/\"\n",
    "\n",
    "\n",
    "IN_NUM = \"0\"\n"
   ]
  },
  {
   "cell_type": "code",
   "execution_count": 7,
   "metadata": {},
   "outputs": [
    {
     "name": "stdout",
     "output_type": "stream",
     "text": [
      "Loaded data/p0/0.npy\n"
     ]
    },
    {
     "ename": "ValueError",
     "evalue": "The truth value of an array with more than one element is ambiguous. Use a.any() or a.all()",
     "output_type": "error",
     "traceback": [
      "\u001b[0;31m---------------------------------------------------------------------------\u001b[0m",
      "\u001b[0;31mValueError\u001b[0m                                Traceback (most recent call last)",
      "Cell \u001b[0;32mIn[7], line 9\u001b[0m\n\u001b[1;32m      7\u001b[0m \u001b[38;5;28;01melse\u001b[39;00m:\n\u001b[1;32m      8\u001b[0m     \u001b[38;5;28mprint\u001b[39m(\u001b[38;5;124mf\u001b[39m\u001b[38;5;124m\"\u001b[39m\u001b[38;5;124mFile \u001b[39m\u001b[38;5;132;01m{\u001b[39;00mp0_file\u001b[38;5;132;01m}\u001b[39;00m\u001b[38;5;124m does not exist\u001b[39m\u001b[38;5;124m\"\u001b[39m)\n\u001b[0;32m----> 9\u001b[0m \u001b[43mplotter\u001b[49m\u001b[38;5;241;43m.\u001b[39;49m\u001b[43mshow\u001b[49m\u001b[43m(\u001b[49m\u001b[43mp0\u001b[49m\u001b[43m,\u001b[49m\u001b[43m \u001b[49m\u001b[43minteractive\u001b[49m\u001b[38;5;241;43m=\u001b[39;49m\u001b[38;5;28;43;01mTrue\u001b[39;49;00m\u001b[43m)\u001b[49m\n",
      "File \u001b[0;32m~/Code/kvenv/lib/python3.12/site-packages/vedo/plotter.py:3313\u001b[0m, in \u001b[0;36mPlotter.show\u001b[0;34m(self, at, axes, resetcam, zoom, interactive, viewup, azimuth, elevation, roll, camera, mode, rate, bg, bg2, size, title, screenshot, *objects)\u001b[0m\n\u001b[1;32m   3310\u001b[0m     \u001b[38;5;28;01melse\u001b[39;00m:\n\u001b[1;32m   3311\u001b[0m         \u001b[38;5;28mself\u001b[39m\u001b[38;5;241m.\u001b[39mcamera \u001b[38;5;241m=\u001b[39m utils\u001b[38;5;241m.\u001b[39mcamera_from_dict(camera)\n\u001b[0;32m-> 3313\u001b[0m \u001b[38;5;28;43mself\u001b[39;49m\u001b[38;5;241;43m.\u001b[39;49m\u001b[43madd\u001b[49m\u001b[43m(\u001b[49m\u001b[43mobjects\u001b[49m\u001b[43m)\u001b[49m\n\u001b[1;32m   3315\u001b[0m \u001b[38;5;66;03m# Backend ###############################################################\u001b[39;00m\n\u001b[1;32m   3316\u001b[0m \u001b[38;5;28;01mif\u001b[39;00m vedo\u001b[38;5;241m.\u001b[39msettings\u001b[38;5;241m.\u001b[39mdefault_backend \u001b[38;5;129;01min\u001b[39;00m [\u001b[38;5;124m\"\u001b[39m\u001b[38;5;124mk3d\u001b[39m\u001b[38;5;124m\"\u001b[39m]:\n",
      "File \u001b[0;32m~/Code/kvenv/lib/python3.12/site-packages/vedo/plotter.py:946\u001b[0m, in \u001b[0;36mPlotter.add\u001b[0;34m(self, at, *objs)\u001b[0m\n\u001b[1;32m    944\u001b[0m objs \u001b[38;5;241m=\u001b[39m utils\u001b[38;5;241m.\u001b[39mflatten(objs)\n\u001b[1;32m    945\u001b[0m \u001b[38;5;28;01mfor\u001b[39;00m ob \u001b[38;5;129;01min\u001b[39;00m objs:\n\u001b[0;32m--> 946\u001b[0m     \u001b[38;5;28;01mif\u001b[39;00m ob \u001b[38;5;129;01mand\u001b[39;00m ob \u001b[38;5;129;01mnot\u001b[39;00m \u001b[38;5;129;01min\u001b[39;00m \u001b[38;5;28mself\u001b[39m\u001b[38;5;241m.\u001b[39mobjects:\n\u001b[1;32m    947\u001b[0m         \u001b[38;5;28mself\u001b[39m\u001b[38;5;241m.\u001b[39mobjects\u001b[38;5;241m.\u001b[39mappend(ob)\n\u001b[1;32m    949\u001b[0m acts \u001b[38;5;241m=\u001b[39m \u001b[38;5;28mself\u001b[39m\u001b[38;5;241m.\u001b[39m_scan_input_return_acts(objs)\n",
      "File \u001b[0;32m~/Code/kvenv/lib/python3.12/site-packages/jax/_src/array.py:259\u001b[0m, in \u001b[0;36mArrayImpl.__bool__\u001b[0;34m(self)\u001b[0m\n\u001b[1;32m    258\u001b[0m \u001b[38;5;28;01mdef\u001b[39;00m \u001b[38;5;21m__bool__\u001b[39m(\u001b[38;5;28mself\u001b[39m):\n\u001b[0;32m--> 259\u001b[0m   \u001b[43mcore\u001b[49m\u001b[38;5;241;43m.\u001b[39;49m\u001b[43mcheck_bool_conversion\u001b[49m\u001b[43m(\u001b[49m\u001b[38;5;28;43mself\u001b[39;49m\u001b[43m)\u001b[49m\n\u001b[1;32m    260\u001b[0m   \u001b[38;5;28;01mreturn\u001b[39;00m \u001b[38;5;28mbool\u001b[39m(\u001b[38;5;28mself\u001b[39m\u001b[38;5;241m.\u001b[39m_value)\n",
      "File \u001b[0;32m~/Code/kvenv/lib/python3.12/site-packages/jax/_src/core.py:654\u001b[0m, in \u001b[0;36mcheck_bool_conversion\u001b[0;34m(arr)\u001b[0m\n\u001b[1;32m    651\u001b[0m   \u001b[38;5;28;01mraise\u001b[39;00m \u001b[38;5;167;01mValueError\u001b[39;00m(\u001b[38;5;124m\"\u001b[39m\u001b[38;5;124mThe truth value of an empty array is ambiguous. Use\u001b[39m\u001b[38;5;124m\"\u001b[39m\n\u001b[1;32m    652\u001b[0m                    \u001b[38;5;124m\"\u001b[39m\u001b[38;5;124m `array.size > 0` to check that an array is not empty.\u001b[39m\u001b[38;5;124m\"\u001b[39m)\n\u001b[1;32m    653\u001b[0m \u001b[38;5;28;01mif\u001b[39;00m arr\u001b[38;5;241m.\u001b[39msize \u001b[38;5;241m>\u001b[39m \u001b[38;5;241m1\u001b[39m:\n\u001b[0;32m--> 654\u001b[0m   \u001b[38;5;28;01mraise\u001b[39;00m \u001b[38;5;167;01mValueError\u001b[39;00m(\u001b[38;5;124m\"\u001b[39m\u001b[38;5;124mThe truth value of an array with more than one element\u001b[39m\u001b[38;5;124m\"\u001b[39m\n\u001b[1;32m    655\u001b[0m                    \u001b[38;5;124m\"\u001b[39m\u001b[38;5;124m is ambiguous. Use a.any() or a.all()\u001b[39m\u001b[38;5;124m\"\u001b[39m)\n",
      "\u001b[0;31mValueError\u001b[0m: The truth value of an array with more than one element is ambiguous. Use a.any() or a.all()"
     ]
    }
   ],
   "source": [
    "p0_file = f\"{data_path}p0/{IN_NUM}.npy\"\n",
    "if os.path.exists(p0_file):\n",
    "    p0 = jnp.load(p0_file)\n",
    "    p0_vol = Volume(p0)\n",
    "    # p0_vol.cmap([\"white\", \"b\", \"g\", \"r\"]).mode(1)\n",
    "    print(f\"Loaded {p0_file}\")\n",
    "else:\n",
    "    print(f\"File {p0_file} does not exist\")\n",
    "plotter.show(p0, interactive=True)\n"
   ]
  },
  {
   "cell_type": "code",
   "execution_count": 2,
   "metadata": {},
   "outputs": [
    {
     "ename": "TypeError",
     "evalue": "SetDimensions argument 1: ",
     "output_type": "error",
     "traceback": [
      "\u001b[0;31m---------------------------------------------------------------------------\u001b[0m",
      "\u001b[0;31mTypeError\u001b[0m                                 Traceback (most recent call last)",
      "Cell \u001b[0;32mIn[2], line 4\u001b[0m\n\u001b[1;32m      2\u001b[0m \u001b[38;5;28;01mif\u001b[39;00m os\u001b[38;5;241m.\u001b[39mpath\u001b[38;5;241m.\u001b[39mexists(p_r_file):\n\u001b[1;32m      3\u001b[0m     p_r \u001b[38;5;241m=\u001b[39m jnp\u001b[38;5;241m.\u001b[39mload(p_r_file)\n\u001b[0;32m----> 4\u001b[0m     p_r_vol \u001b[38;5;241m=\u001b[39m \u001b[43mVolume\u001b[49m\u001b[43m(\u001b[49m\u001b[43mp_r\u001b[49m\u001b[43m)\u001b[49m\n\u001b[1;32m      5\u001b[0m     \u001b[38;5;66;03m# p_r_vol.cmap([\"white\", \"b\", \"g\", \"r\"]).mode(1)\u001b[39;00m\n\u001b[1;32m      6\u001b[0m     show_items\u001b[38;5;241m.\u001b[39mappend(p_r_vol)\n",
      "File \u001b[0;32m~/Code/kvenv/lib/python3.12/site-packages/vedo/volume.py:148\u001b[0m, in \u001b[0;36mVolume.__init__\u001b[0;34m(self, inputobj, dims, origin, spacing)\u001b[0m\n\u001b[1;32m    146\u001b[0m         vedo\u001b[38;5;241m.\u001b[39mlogger\u001b[38;5;241m.\u001b[39merror(\u001b[38;5;124m\"\u001b[39m\u001b[38;5;124mmust set dimensions (dims keyword) in Volume\u001b[39m\u001b[38;5;124m\"\u001b[39m)\n\u001b[1;32m    147\u001b[0m         \u001b[38;5;28;01mraise\u001b[39;00m \u001b[38;5;167;01mRuntimeError\u001b[39;00m()\n\u001b[0;32m--> 148\u001b[0m     \u001b[43mimg\u001b[49m\u001b[38;5;241;43m.\u001b[39;49m\u001b[43mSetDimensions\u001b[49m\u001b[43m(\u001b[49m\u001b[43minputobj\u001b[49m\u001b[38;5;241;43m.\u001b[39;49m\u001b[43mshape\u001b[49m\u001b[43m)\u001b[49m\n\u001b[1;32m    149\u001b[0m img\u001b[38;5;241m.\u001b[39mGetPointData()\u001b[38;5;241m.\u001b[39mAddArray(varr)\n\u001b[1;32m    150\u001b[0m img\u001b[38;5;241m.\u001b[39mGetPointData()\u001b[38;5;241m.\u001b[39mSetActiveScalars(varr\u001b[38;5;241m.\u001b[39mGetName())\n",
      "\u001b[0;31mTypeError\u001b[0m: SetDimensions argument 1: "
     ]
    }
   ],
   "source": [
    "p_r_file = f\"{data_path}p_r/{IN_NUM}.npy\"\n",
    "if os.path.exists(p_r_file):\n",
    "    p_r = jnp.load(p_r_file)\n",
    "    p_r_vol = Volume(p_r)\n",
    "    # p_r_vol.cmap([\"white\", \"b\", \"g\", \"r\"]).mode(1)\n",
    "    show_items.append(p_r_vol)\n",
    "    print(f\"Loaded {p_r_file}\")\n",
    "else:\n",
    "    print(f\"File {p_r_file} does not exist\")\n"
   ]
  }
 ],
 "metadata": {
  "kernelspec": {
   "display_name": "kvenv",
   "language": "python",
   "name": "python3"
  },
  "language_info": {
   "codemirror_mode": {
    "name": "ipython",
    "version": 3
   },
   "file_extension": ".py",
   "mimetype": "text/x-python",
   "name": "python",
   "nbconvert_exporter": "python",
   "pygments_lexer": "ipython3",
   "version": "3.12.3"
  }
 },
 "nbformat": 4,
 "nbformat_minor": 2
}
