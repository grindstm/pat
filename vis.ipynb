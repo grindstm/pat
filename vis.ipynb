{
 "cells": [
  {
   "cell_type": "code",
   "execution_count": 15,
   "metadata": {},
   "outputs": [],
   "source": [
    "import sys\n",
    "import os\n",
    "import numpy as np\n",
    "import jax.numpy as jnp\n",
    "import vedo\n",
    "from vedo import Volume, show\n",
    "import vedo.plotter  # https://vedo.embl.es/docs/vedo/plotter.html#Plotter\n",
    "from vedo.colors import color_map\n",
    "vedo.settings.default_backend = \"vtk\"\n",
    "import matplotlib.pyplot as plt\n",
    "from matplotlib.colors import LinearSegmentedColormap\n",
    "\n",
    "\n",
    "plotter = vedo.Plotter(axes=6, bg=\"white\", size=(1600, 800))\n",
    "data_path = \"data/\""
   ]
  },
  {
   "cell_type": "code",
   "execution_count": 20,
   "metadata": {},
   "outputs": [
    {
     "name": "stdout",
     "output_type": "stream",
     "text": [
      "Loaded data/p0/0.npy\n"
     ]
    },
    {
     "data": {
      "text/plain": [
       "<vedo.plotter.Plotter at 0x7fb59e873260>"
      ]
     },
     "execution_count": 20,
     "metadata": {},
     "output_type": "execute_result"
    }
   ],
   "source": [
    "IN_NUM = \"0\"\n",
    "plotter = vedo.Plotter(axes=6, bg=\"white\", size=(1600, 800))\n",
    "\n",
    "p0_file = f\"{data_path}p0/{IN_NUM}.npy\"\n",
    "if os.path.exists(p0_file):\n",
    "    p0 = jnp.load(p0_file)\n",
    "    p0_vol = Volume(p0)\n",
    "    # p0_vol.cmap([\"white\", \"b\", \"g\", \"r\"]).mode(1)\n",
    "    print(f\"Loaded {p0_file}\")\n",
    "else:\n",
    "    print(f\"File {p0_file} does not exist\")\n",
    "plotter.show(p0_vol)#, interactive=True)\n"
   ]
  },
  {
   "cell_type": "code",
   "execution_count": 6,
   "metadata": {},
   "outputs": [
    {
     "ename": "NameError",
     "evalue": "name 'p_r_vol' is not defined",
     "output_type": "error",
     "traceback": [
      "\u001b[0;31m---------------------------------------------------------------------------\u001b[0m",
      "\u001b[0;31mNameError\u001b[0m                                 Traceback (most recent call last)",
      "Cell \u001b[0;32mIn[6], line 1\u001b[0m\n\u001b[0;32m----> 1\u001b[0m \u001b[43mp_r_vol\u001b[49m\u001b[38;5;241m.\u001b[39mshape\n",
      "\u001b[0;31mNameError\u001b[0m: name 'p_r_vol' is not defined"
     ]
    }
   ],
   "source": [
    "p_r_volshape"
   ]
  },
  {
   "cell_type": "code",
   "execution_count": 22,
   "metadata": {},
   "outputs": [
    {
     "name": "stdout",
     "output_type": "stream",
     "text": [
      "Loaded data/p_r/0.npy\n"
     ]
    },
    {
     "ename": "AttributeError",
     "evalue": "'Plotter' object has no attribute 'mode'",
     "output_type": "error",
     "traceback": [
      "\u001b[0;31m---------------------------------------------------------------------------\u001b[0m",
      "\u001b[0;31mAttributeError\u001b[0m                            Traceback (most recent call last)",
      "Cell \u001b[0;32mIn[22], line 12\u001b[0m\n\u001b[1;32m     10\u001b[0m \u001b[38;5;28;01melse\u001b[39;00m:\n\u001b[1;32m     11\u001b[0m     \u001b[38;5;28mprint\u001b[39m(\u001b[38;5;124mf\u001b[39m\u001b[38;5;124m\"\u001b[39m\u001b[38;5;124mFile \u001b[39m\u001b[38;5;132;01m{\u001b[39;00mp_r_file\u001b[38;5;132;01m}\u001b[39;00m\u001b[38;5;124m does not exist\u001b[39m\u001b[38;5;124m\"\u001b[39m)\n\u001b[0;32m---> 12\u001b[0m \u001b[43mplotter\u001b[49m\u001b[38;5;241;43m.\u001b[39;49m\u001b[43mshow\u001b[49m\u001b[43m(\u001b[49m\u001b[43mp_r_vol\u001b[49m\u001b[43m)\u001b[49m\u001b[38;5;241;43m.\u001b[39;49m\u001b[43mmode\u001b[49m(\u001b[38;5;241m1\u001b[39m)\u001b[38;5;66;03m#, interactive=True)\u001b[39;00m\n",
      "\u001b[0;31mAttributeError\u001b[0m: 'Plotter' object has no attribute 'mode'"
     ]
    }
   ],
   "source": [
    "p_r_file = f\"{data_path}p_r/{IN_NUM}.npy\"\n",
    "plotter = vedo.Plotter(axes=6, bg=\"white\", size=(1600, 800))\n",
    "\n",
    "if os.path.exists(p_r_file):\n",
    "    p_r = jnp.load(p_r_file)\n",
    "    p_r_vol = Volume(p_r[...,0])\n",
    "    # p_r_vol.cmap([\"white\", \"b\", \"g\", \"r\"]).mode(1)\n",
    "    # show_items.append(p_r_vol)\n",
    "    print(f\"Loaded {p_r_file}\")\n",
    "else:\n",
    "    print(f\"File {p_r_file} does not exist\")\n",
    "plotter.show(p_r_vol).mode(1)#, interactive=True)\n"
   ]
  },
  {
   "cell_type": "code",
   "execution_count": null,
   "metadata": {},
   "outputs": [],
   "source": []
  }
 ],
 "metadata": {
  "kernelspec": {
   "display_name": "kvenv",
   "language": "python",
   "name": "python3"
  },
  "language_info": {
   "codemirror_mode": {
    "name": "ipython",
    "version": 3
   },
   "file_extension": ".py",
   "mimetype": "text/x-python",
   "name": "python",
   "nbconvert_exporter": "python",
   "pygments_lexer": "ipython3",
   "version": "3.12.3"
  }
 },
 "nbformat": 4,
 "nbformat_minor": 2
}
